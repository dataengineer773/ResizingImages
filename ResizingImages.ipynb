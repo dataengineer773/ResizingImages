{
 "cells": [
  {
   "cell_type": "code",
   "execution_count": 1,
   "id": "3ce1e6c8-c6a9-4bcc-a5f1-bd7ee82a723a",
   "metadata": {},
   "outputs": [],
   "source": [
    "# Load image\n",
    "import cv2\n",
    "import numpy as np\n",
    "from matplotlib import pyplot as plt"
   ]
  },
  {
   "cell_type": "code",
   "execution_count": 2,
   "id": "1d54c4ce-efa7-484b-ad3c-ba8c31fe0d55",
   "metadata": {},
   "outputs": [],
   "source": [
    "# Load image as grayscale\n",
    "image = cv2.imread(\"PLANEE.JPEG\", cv2.IMREAD_GRAYSCALE)"
   ]
  },
  {
   "cell_type": "code",
   "execution_count": 3,
   "id": "1ab3c50c-d945-4adf-a043-649b33b1fe21",
   "metadata": {},
   "outputs": [],
   "source": [
    "# Resize image to 50 pixels by 50 pixels\n",
    "image_50x50 = cv2.resize(image, (50, 50))"
   ]
  },
  {
   "cell_type": "code",
   "execution_count": 4,
   "id": "f6c7b7ee-61a4-429f-8909-662e2edc2530",
   "metadata": {},
   "outputs": [
    {
     "data": {
      "image/png": "[encoded data removed]",
      "text/plain": [
       "<Figure size 640x480 with 1 Axes>"
      ]
     },
     "metadata": {},
     "output_type": "display_data"
    }
   ],
   "source": [
    "# View image\n",
    "plt.imshow(image_50x50, cmap=\"gray\"), plt.axis(\"off\")\n",
    "plt.show()"
   ]
  },
  {
   "cell_type": "code",
   "execution_count": null,
   "id": "b5030164-8c2d-4568-a2bd-0404c219f0b5",
   "metadata": {},
   "outputs": [],
   "source": []
  }
 ],
 "metadata": {
  "kernelspec": {
   "display_name": "Python 3 (ipykernel)",
   "language": "python",
   "name": "python3"
  },
  "language_info": {
   "codemirror_mode": {
    "name": "ipython",
    "version": 3
   },
   "file_extension": ".py",
   "mimetype": "text/x-python",
   "name": "python",
   "nbconvert_exporter": "python",
   "pygments_lexer": "ipython3",
   "version": "3.12.3"
  }
 },
 "nbformat": 4,
 "nbformat_minor": 5
}
